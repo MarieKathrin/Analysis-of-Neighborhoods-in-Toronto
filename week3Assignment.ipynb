{
 "cells": [
  {
   "cell_type": "markdown",
   "metadata": {},
   "source": [
    "## Task 1: Scraping of the Wikipedia page\n"
   ]
  },
  {
   "cell_type": "markdown",
   "metadata": {},
   "source": [
    "__Task 1:__ Start by creating a new Notebook for this assignment. \n",
    "\n",
    "__Task 2:__ Use the Notebook to build the code to scrape the following Wikipedia page, https://en.wikipedia.org/wiki/List_of_postal_codes_of_Canada:_M, in order to obtain the data that is in the table of postal codes and to transform the data into a pandas dataframe like the one shown below:"
   ]
  },
  {
   "cell_type": "code",
   "execution_count": 75,
   "metadata": {},
   "outputs": [
    {
     "data": {
      "text/html": [
       "<div>\n",
       "<style scoped>\n",
       "    .dataframe tbody tr th:only-of-type {\n",
       "        vertical-align: middle;\n",
       "    }\n",
       "\n",
       "    .dataframe tbody tr th {\n",
       "        vertical-align: top;\n",
       "    }\n",
       "\n",
       "    .dataframe thead th {\n",
       "        text-align: right;\n",
       "    }\n",
       "</style>\n",
       "<table border=\"1\" class=\"dataframe\">\n",
       "  <thead>\n",
       "    <tr style=\"text-align: right;\">\n",
       "      <th></th>\n",
       "      <th>Postal Code</th>\n",
       "      <th>Borough</th>\n",
       "      <th>Neighborhood</th>\n",
       "    </tr>\n",
       "  </thead>\n",
       "  <tbody>\n",
       "    <tr>\n",
       "      <th>0</th>\n",
       "      <td>M1A</td>\n",
       "      <td>Not assigned</td>\n",
       "      <td>NaN</td>\n",
       "    </tr>\n",
       "    <tr>\n",
       "      <th>1</th>\n",
       "      <td>M2A</td>\n",
       "      <td>Not assigned</td>\n",
       "      <td>NaN</td>\n",
       "    </tr>\n",
       "    <tr>\n",
       "      <th>2</th>\n",
       "      <td>M3A</td>\n",
       "      <td>North York</td>\n",
       "      <td>Parkwoods</td>\n",
       "    </tr>\n",
       "    <tr>\n",
       "      <th>3</th>\n",
       "      <td>M4A</td>\n",
       "      <td>North York</td>\n",
       "      <td>Victoria Village</td>\n",
       "    </tr>\n",
       "    <tr>\n",
       "      <th>4</th>\n",
       "      <td>M5A</td>\n",
       "      <td>Downtown Toronto</td>\n",
       "      <td>Regent Park, Harbourfront</td>\n",
       "    </tr>\n",
       "  </tbody>\n",
       "</table>\n",
       "</div>"
      ],
      "text/plain": [
       "  Postal Code           Borough               Neighborhood\n",
       "0         M1A      Not assigned                        NaN\n",
       "1         M2A      Not assigned                        NaN\n",
       "2         M3A        North York                  Parkwoods\n",
       "3         M4A        North York           Victoria Village\n",
       "4         M5A  Downtown Toronto  Regent Park, Harbourfront"
      ]
     },
     "execution_count": 75,
     "metadata": {},
     "output_type": "execute_result"
    }
   ],
   "source": [
    "import pandas as pd\n",
    "import numpy as np\n",
    "\n",
    "url = 'https://en.wikipedia.org/wiki/List_of_postal_codes_of_Canada:_M'\n",
    "df_can = pd.read_html(url, header=0)[0]\n",
    "df_can.head()"
   ]
  },
  {
   "cell_type": "markdown",
   "metadata": {},
   "source": [
    "# Data Cleansing according to the instructions\n",
    "\n",
    " 3. To create the above dataframe:\n",
    " \n",
    "__Task 3a:__ The dataframe will consist of three columns: PostalCode, Borough, and Neighborhood"
   ]
  },
  {
   "cell_type": "code",
   "execution_count": 76,
   "metadata": {},
   "outputs": [
    {
     "data": {
      "text/html": [
       "<div>\n",
       "<style scoped>\n",
       "    .dataframe tbody tr th:only-of-type {\n",
       "        vertical-align: middle;\n",
       "    }\n",
       "\n",
       "    .dataframe tbody tr th {\n",
       "        vertical-align: top;\n",
       "    }\n",
       "\n",
       "    .dataframe thead th {\n",
       "        text-align: right;\n",
       "    }\n",
       "</style>\n",
       "<table border=\"1\" class=\"dataframe\">\n",
       "  <thead>\n",
       "    <tr style=\"text-align: right;\">\n",
       "      <th></th>\n",
       "      <th>PostalCode</th>\n",
       "      <th>Borough</th>\n",
       "      <th>Neighborhood</th>\n",
       "    </tr>\n",
       "  </thead>\n",
       "  <tbody>\n",
       "    <tr>\n",
       "      <th>0</th>\n",
       "      <td>M1A</td>\n",
       "      <td>Not assigned</td>\n",
       "      <td>NaN</td>\n",
       "    </tr>\n",
       "    <tr>\n",
       "      <th>1</th>\n",
       "      <td>M2A</td>\n",
       "      <td>Not assigned</td>\n",
       "      <td>NaN</td>\n",
       "    </tr>\n",
       "    <tr>\n",
       "      <th>2</th>\n",
       "      <td>M3A</td>\n",
       "      <td>North York</td>\n",
       "      <td>Parkwoods</td>\n",
       "    </tr>\n",
       "    <tr>\n",
       "      <th>3</th>\n",
       "      <td>M4A</td>\n",
       "      <td>North York</td>\n",
       "      <td>Victoria Village</td>\n",
       "    </tr>\n",
       "    <tr>\n",
       "      <th>4</th>\n",
       "      <td>M5A</td>\n",
       "      <td>Downtown Toronto</td>\n",
       "      <td>Regent Park, Harbourfront</td>\n",
       "    </tr>\n",
       "  </tbody>\n",
       "</table>\n",
       "</div>"
      ],
      "text/plain": [
       "  PostalCode           Borough               Neighborhood\n",
       "0        M1A      Not assigned                        NaN\n",
       "1        M2A      Not assigned                        NaN\n",
       "2        M3A        North York                  Parkwoods\n",
       "3        M4A        North York           Victoria Village\n",
       "4        M5A  Downtown Toronto  Regent Park, Harbourfront"
      ]
     },
     "execution_count": 76,
     "metadata": {},
     "output_type": "execute_result"
    }
   ],
   "source": [
    "#Rename Column Postal Code\n",
    "df_can.rename(columns={\"Postal Code\": \"PostalCode\"}, inplace = True)\n",
    "df_can.head()"
   ]
  },
  {
   "cell_type": "markdown",
   "metadata": {},
   "source": [
    "__Task 3b:__ Only process the cells that have an assigned borough. Ignore cells with a borough that is Not assigned."
   ]
  },
  {
   "cell_type": "code",
   "execution_count": 77,
   "metadata": {},
   "outputs": [
    {
     "data": {
      "text/html": [
       "<div>\n",
       "<style scoped>\n",
       "    .dataframe tbody tr th:only-of-type {\n",
       "        vertical-align: middle;\n",
       "    }\n",
       "\n",
       "    .dataframe tbody tr th {\n",
       "        vertical-align: top;\n",
       "    }\n",
       "\n",
       "    .dataframe thead th {\n",
       "        text-align: right;\n",
       "    }\n",
       "</style>\n",
       "<table border=\"1\" class=\"dataframe\">\n",
       "  <thead>\n",
       "    <tr style=\"text-align: right;\">\n",
       "      <th></th>\n",
       "      <th>PostalCode</th>\n",
       "      <th>Borough</th>\n",
       "      <th>Neighborhood</th>\n",
       "    </tr>\n",
       "  </thead>\n",
       "  <tbody>\n",
       "    <tr>\n",
       "      <th>2</th>\n",
       "      <td>M3A</td>\n",
       "      <td>North York</td>\n",
       "      <td>Parkwoods</td>\n",
       "    </tr>\n",
       "    <tr>\n",
       "      <th>3</th>\n",
       "      <td>M4A</td>\n",
       "      <td>North York</td>\n",
       "      <td>Victoria Village</td>\n",
       "    </tr>\n",
       "    <tr>\n",
       "      <th>4</th>\n",
       "      <td>M5A</td>\n",
       "      <td>Downtown Toronto</td>\n",
       "      <td>Regent Park, Harbourfront</td>\n",
       "    </tr>\n",
       "    <tr>\n",
       "      <th>5</th>\n",
       "      <td>M6A</td>\n",
       "      <td>North York</td>\n",
       "      <td>Lawrence Manor, Lawrence Heights</td>\n",
       "    </tr>\n",
       "    <tr>\n",
       "      <th>6</th>\n",
       "      <td>M7A</td>\n",
       "      <td>Downtown Toronto</td>\n",
       "      <td>Queen's Park, Ontario Provincial Government</td>\n",
       "    </tr>\n",
       "  </tbody>\n",
       "</table>\n",
       "</div>"
      ],
      "text/plain": [
       "  PostalCode           Borough                                 Neighborhood\n",
       "2        M3A        North York                                    Parkwoods\n",
       "3        M4A        North York                             Victoria Village\n",
       "4        M5A  Downtown Toronto                    Regent Park, Harbourfront\n",
       "5        M6A        North York             Lawrence Manor, Lawrence Heights\n",
       "6        M7A  Downtown Toronto  Queen's Park, Ontario Provincial Government"
      ]
     },
     "execution_count": 77,
     "metadata": {},
     "output_type": "execute_result"
    }
   ],
   "source": [
    "#Drop all rows that have \"Not assigned\" in the Borough column\n",
    "df_can.drop(df_can.index[df_can.Borough == 'Not assigned'], inplace = True)\n",
    "df_can.head()"
   ]
  },
  {
   "cell_type": "markdown",
   "metadata": {},
   "source": [
    "_Note: I also checked the shape before and after droping the rows using df_can.shape. Before droping the rows there were 180 rows, after droping there are 103 rows left. That means 77 rows were dropped as they had \"Not assigned\" in the Borough column_"
   ]
  },
  {
   "cell_type": "markdown",
   "metadata": {},
   "source": [
    "__Task 3c:__ More than one neighborhood can exist in one postal code area. For example, in the table on the Wikipedia page, you will notice that M5A is listed twice and has two neighborhoods: Harbourfront and Regent Park. These two rows will be combined into one row with the neighborhoods separated with a comma as shown in row 11 in the above table."
   ]
  },
  {
   "cell_type": "code",
   "execution_count": 78,
   "metadata": {},
   "outputs": [
    {
     "data": {
      "text/html": [
       "<div>\n",
       "<style scoped>\n",
       "    .dataframe tbody tr th:only-of-type {\n",
       "        vertical-align: middle;\n",
       "    }\n",
       "\n",
       "    .dataframe tbody tr th {\n",
       "        vertical-align: top;\n",
       "    }\n",
       "\n",
       "    .dataframe thead th {\n",
       "        text-align: right;\n",
       "    }\n",
       "</style>\n",
       "<table border=\"1\" class=\"dataframe\">\n",
       "  <thead>\n",
       "    <tr style=\"text-align: right;\">\n",
       "      <th></th>\n",
       "      <th>PostalCode</th>\n",
       "      <th>Borough</th>\n",
       "      <th>Neighborhood</th>\n",
       "    </tr>\n",
       "  </thead>\n",
       "  <tbody>\n",
       "    <tr>\n",
       "      <th>2</th>\n",
       "      <td>M3A</td>\n",
       "      <td>North York</td>\n",
       "      <td>Parkwoods</td>\n",
       "    </tr>\n",
       "    <tr>\n",
       "      <th>3</th>\n",
       "      <td>M4A</td>\n",
       "      <td>North York</td>\n",
       "      <td>Victoria Village</td>\n",
       "    </tr>\n",
       "    <tr>\n",
       "      <th>4</th>\n",
       "      <td>M5A</td>\n",
       "      <td>Downtown Toronto</td>\n",
       "      <td>Regent Park, Harbourfront</td>\n",
       "    </tr>\n",
       "    <tr>\n",
       "      <th>5</th>\n",
       "      <td>M6A</td>\n",
       "      <td>North York</td>\n",
       "      <td>Lawrence Manor, Lawrence Heights</td>\n",
       "    </tr>\n",
       "    <tr>\n",
       "      <th>6</th>\n",
       "      <td>M7A</td>\n",
       "      <td>Downtown Toronto</td>\n",
       "      <td>Queen's Park, Ontario Provincial Government</td>\n",
       "    </tr>\n",
       "    <tr>\n",
       "      <th>...</th>\n",
       "      <td>...</td>\n",
       "      <td>...</td>\n",
       "      <td>...</td>\n",
       "    </tr>\n",
       "    <tr>\n",
       "      <th>160</th>\n",
       "      <td>M8X</td>\n",
       "      <td>Etobicoke</td>\n",
       "      <td>The Kingsway, Montgomery Road, Old Mill North</td>\n",
       "    </tr>\n",
       "    <tr>\n",
       "      <th>165</th>\n",
       "      <td>M4Y</td>\n",
       "      <td>Downtown Toronto</td>\n",
       "      <td>Church and Wellesley</td>\n",
       "    </tr>\n",
       "    <tr>\n",
       "      <th>168</th>\n",
       "      <td>M7Y</td>\n",
       "      <td>East Toronto</td>\n",
       "      <td>Business reply mail Processing Centre, South C...</td>\n",
       "    </tr>\n",
       "    <tr>\n",
       "      <th>169</th>\n",
       "      <td>M8Y</td>\n",
       "      <td>Etobicoke</td>\n",
       "      <td>Old Mill South, King's Mill Park, Sunnylea, Hu...</td>\n",
       "    </tr>\n",
       "    <tr>\n",
       "      <th>178</th>\n",
       "      <td>M8Z</td>\n",
       "      <td>Etobicoke</td>\n",
       "      <td>Mimico NW, The Queensway West, South of Bloor,...</td>\n",
       "    </tr>\n",
       "  </tbody>\n",
       "</table>\n",
       "<p>103 rows × 3 columns</p>\n",
       "</div>"
      ],
      "text/plain": [
       "    PostalCode           Borough  \\\n",
       "2          M3A        North York   \n",
       "3          M4A        North York   \n",
       "4          M5A  Downtown Toronto   \n",
       "5          M6A        North York   \n",
       "6          M7A  Downtown Toronto   \n",
       "..         ...               ...   \n",
       "160        M8X         Etobicoke   \n",
       "165        M4Y  Downtown Toronto   \n",
       "168        M7Y      East Toronto   \n",
       "169        M8Y         Etobicoke   \n",
       "178        M8Z         Etobicoke   \n",
       "\n",
       "                                          Neighborhood  \n",
       "2                                            Parkwoods  \n",
       "3                                     Victoria Village  \n",
       "4                            Regent Park, Harbourfront  \n",
       "5                     Lawrence Manor, Lawrence Heights  \n",
       "6          Queen's Park, Ontario Provincial Government  \n",
       "..                                                 ...  \n",
       "160      The Kingsway, Montgomery Road, Old Mill North  \n",
       "165                               Church and Wellesley  \n",
       "168  Business reply mail Processing Centre, South C...  \n",
       "169  Old Mill South, King's Mill Park, Sunnylea, Hu...  \n",
       "178  Mimico NW, The Queensway West, South of Bloor,...  \n",
       "\n",
       "[103 rows x 3 columns]"
      ]
     },
     "execution_count": 78,
     "metadata": {},
     "output_type": "execute_result"
    }
   ],
   "source": [
    "df_can.groupby(\"PostalCode\")['Neighborhood'].apply(lambda tags: ','.join(tags))\n",
    "df_can"
   ]
  },
  {
   "cell_type": "markdown",
   "metadata": {},
   "source": [
    "__Task 3d:__ If a cell has a borough but a Not assigned neighborhood, then the neighborhood will be the same as the borough."
   ]
  },
  {
   "cell_type": "code",
   "execution_count": 79,
   "metadata": {},
   "outputs": [
    {
     "data": {
      "text/html": [
       "<div>\n",
       "<style scoped>\n",
       "    .dataframe tbody tr th:only-of-type {\n",
       "        vertical-align: middle;\n",
       "    }\n",
       "\n",
       "    .dataframe tbody tr th {\n",
       "        vertical-align: top;\n",
       "    }\n",
       "\n",
       "    .dataframe thead th {\n",
       "        text-align: right;\n",
       "    }\n",
       "</style>\n",
       "<table border=\"1\" class=\"dataframe\">\n",
       "  <thead>\n",
       "    <tr style=\"text-align: right;\">\n",
       "      <th></th>\n",
       "      <th>PostalCode</th>\n",
       "      <th>Borough</th>\n",
       "      <th>Neighborhood</th>\n",
       "    </tr>\n",
       "  </thead>\n",
       "  <tbody>\n",
       "    <tr>\n",
       "      <th>2</th>\n",
       "      <td>M3A</td>\n",
       "      <td>North York</td>\n",
       "      <td>Parkwoods</td>\n",
       "    </tr>\n",
       "    <tr>\n",
       "      <th>3</th>\n",
       "      <td>M4A</td>\n",
       "      <td>North York</td>\n",
       "      <td>Victoria Village</td>\n",
       "    </tr>\n",
       "    <tr>\n",
       "      <th>4</th>\n",
       "      <td>M5A</td>\n",
       "      <td>Downtown Toronto</td>\n",
       "      <td>Regent Park, Harbourfront</td>\n",
       "    </tr>\n",
       "    <tr>\n",
       "      <th>5</th>\n",
       "      <td>M6A</td>\n",
       "      <td>North York</td>\n",
       "      <td>Lawrence Manor, Lawrence Heights</td>\n",
       "    </tr>\n",
       "    <tr>\n",
       "      <th>6</th>\n",
       "      <td>M7A</td>\n",
       "      <td>Downtown Toronto</td>\n",
       "      <td>Queen's Park, Ontario Provincial Government</td>\n",
       "    </tr>\n",
       "  </tbody>\n",
       "</table>\n",
       "</div>"
      ],
      "text/plain": [
       "  PostalCode           Borough                                 Neighborhood\n",
       "2        M3A        North York                                    Parkwoods\n",
       "3        M4A        North York                             Victoria Village\n",
       "4        M5A  Downtown Toronto                    Regent Park, Harbourfront\n",
       "5        M6A        North York             Lawrence Manor, Lawrence Heights\n",
       "6        M7A  Downtown Toronto  Queen's Park, Ontario Provincial Government"
      ]
     },
     "execution_count": 79,
     "metadata": {},
     "output_type": "execute_result"
    }
   ],
   "source": [
    "df_can['Neighborhood'].replace(\"Not assigned\", df_can[\"Borough\"],inplace=True)\n",
    "df_can.head()"
   ]
  },
  {
   "cell_type": "markdown",
   "metadata": {},
   "source": [
    "__Task 3 e:__ Clean your Notebook and add Markdown cells to explain your work and any assumptions you are making. \n",
    "\n",
    "\n",
    "__Task 3 f:__ In the last cell of your notebook, use the .shape method to print the number of rows of your dataframe.      "
   ]
  },
  {
   "cell_type": "code",
   "execution_count": 80,
   "metadata": {},
   "outputs": [
    {
     "name": "stdout",
     "output_type": "stream",
     "text": [
      "The shape of the Canada Dataframe is (103, 3) \n"
     ]
    }
   ],
   "source": [
    "df_can.shape\n",
    "print(\"The shape of the Canada Dataframe is {} \".format(df_can.shape))"
   ]
  },
  {
   "cell_type": "markdown",
   "metadata": {},
   "source": [
    "## Task 2: Get llatitude and longitude of each neigborhood\n",
    "\n",
    "Using the Geocoder Python package (https://geocoder.readthedocs.io/index.html) with a while loop for each postal code to get the coordinates for all of the neighborhoods. _The geocoder.arcgis_ was used, as the _geocoder.google_ did not work (the while loop never endet). The Arcgis provider was found here: https://geocoder.readthedocs.io/. \n",
    "\n",
    "The following steps were done: \n",
    "1. Install geocoder & import library\n",
    "2. Define a function, that takes as input parameters postalcode and borogh and gives back the latitude and longitude of the specific postalcode and borogh\n",
    "3. Reset the index in the Canada dataframe (that you can loop through every row)\n",
    "4. For loop through every row of the dataframe to get for every row the specific postalcode and borough using loc, then call the function that was defined and save latitude and longitude in the new column in our dataframe"
   ]
  },
  {
   "cell_type": "markdown",
   "metadata": {},
   "source": [
    "__Step 1:__ Install geocoder & import library\n",
    "\n",
    "__Step 2:__ Define a function, that takes as input parameters postalcode and borogh and gives back the latitude and longitude of the specific postalcode and borogh"
   ]
  },
  {
   "cell_type": "code",
   "execution_count": 81,
   "metadata": {},
   "outputs": [],
   "source": [
    "#Step 1\n",
    "#conda install -c conda-forge geocoder\n",
    "import geocoder\n",
    "\n",
    "##Step 2: \n",
    "def get_cordinates(postalcode, borogh):\n",
    "    lat_lng_coords = None\n",
    "    while(lat_lng_coords is None):\n",
    "        g = geocoder.arcgis('{}, {}'.format(postalcode, borogh))\n",
    "        lat_lng_coords = g.latlng\n",
    "        latitude = lat_lng_coords[0]\n",
    "        longitude = lat_lng_coords[1]\n",
    "    return latitude, longitude"
   ]
  },
  {
   "cell_type": "markdown",
   "metadata": {},
   "source": [
    "__Step 3:__ Reset the index in the Canada dataframe (that you can loop through every row)\n",
    "\n",
    "__Step 4:__ For loop through every row of the dataframe to get for every row the specific postalcode and borough using loc, then call the function that was defined and save latitude and longitude in the new column in our dataframe"
   ]
  },
  {
   "cell_type": "code",
   "execution_count": 86,
   "metadata": {},
   "outputs": [],
   "source": [
    "#Step 3: \n",
    "df_can.reset_index(drop=True, inplace=True)\n",
    "\n",
    "#Step 4: \n",
    "for rownr in range(0,len(df_can)):\n",
    "    postalcode = df_can.loc[rownr, 'PostalCode'] \n",
    "    borogh = df_can.loc[rownr, 'Borough'] \n",
    "    lat, lon = get_cordinates(postalcode, borogh)\n",
    "    df_can.loc[df_can.index[rownr], 'Latitude'] = lat\n",
    "    df_can.loc[df_can.index[rownr], 'Longitude'] = lon"
   ]
  },
  {
   "cell_type": "code",
   "execution_count": 88,
   "metadata": {},
   "outputs": [
    {
     "data": {
      "text/html": [
       "<div>\n",
       "<style scoped>\n",
       "    .dataframe tbody tr th:only-of-type {\n",
       "        vertical-align: middle;\n",
       "    }\n",
       "\n",
       "    .dataframe tbody tr th {\n",
       "        vertical-align: top;\n",
       "    }\n",
       "\n",
       "    .dataframe thead th {\n",
       "        text-align: right;\n",
       "    }\n",
       "</style>\n",
       "<table border=\"1\" class=\"dataframe\">\n",
       "  <thead>\n",
       "    <tr style=\"text-align: right;\">\n",
       "      <th></th>\n",
       "      <th>PostalCode</th>\n",
       "      <th>Borough</th>\n",
       "      <th>Neighborhood</th>\n",
       "      <th>Latitude</th>\n",
       "      <th>Longitude</th>\n",
       "    </tr>\n",
       "  </thead>\n",
       "  <tbody>\n",
       "    <tr>\n",
       "      <th>0</th>\n",
       "      <td>M3A</td>\n",
       "      <td>North York</td>\n",
       "      <td>Parkwoods</td>\n",
       "      <td>43.752935</td>\n",
       "      <td>-79.335641</td>\n",
       "    </tr>\n",
       "    <tr>\n",
       "      <th>1</th>\n",
       "      <td>M4A</td>\n",
       "      <td>North York</td>\n",
       "      <td>Victoria Village</td>\n",
       "      <td>43.728102</td>\n",
       "      <td>-79.311890</td>\n",
       "    </tr>\n",
       "    <tr>\n",
       "      <th>2</th>\n",
       "      <td>M5A</td>\n",
       "      <td>Downtown Toronto</td>\n",
       "      <td>Regent Park, Harbourfront</td>\n",
       "      <td>43.650110</td>\n",
       "      <td>-79.382900</td>\n",
       "    </tr>\n",
       "    <tr>\n",
       "      <th>3</th>\n",
       "      <td>M6A</td>\n",
       "      <td>North York</td>\n",
       "      <td>Lawrence Manor, Lawrence Heights</td>\n",
       "      <td>43.723265</td>\n",
       "      <td>-79.451211</td>\n",
       "    </tr>\n",
       "    <tr>\n",
       "      <th>4</th>\n",
       "      <td>M7A</td>\n",
       "      <td>Downtown Toronto</td>\n",
       "      <td>Queen's Park, Ontario Provincial Government</td>\n",
       "      <td>43.650110</td>\n",
       "      <td>-79.382900</td>\n",
       "    </tr>\n",
       "  </tbody>\n",
       "</table>\n",
       "</div>"
      ],
      "text/plain": [
       "  PostalCode           Borough                                 Neighborhood  \\\n",
       "0        M3A        North York                                    Parkwoods   \n",
       "1        M4A        North York                             Victoria Village   \n",
       "2        M5A  Downtown Toronto                    Regent Park, Harbourfront   \n",
       "3        M6A        North York             Lawrence Manor, Lawrence Heights   \n",
       "4        M7A  Downtown Toronto  Queen's Park, Ontario Provincial Government   \n",
       "\n",
       "    Latitude  Longitude  \n",
       "0  43.752935 -79.335641  \n",
       "1  43.728102 -79.311890  \n",
       "2  43.650110 -79.382900  \n",
       "3  43.723265 -79.451211  \n",
       "4  43.650110 -79.382900  "
      ]
     },
     "execution_count": 88,
     "metadata": {},
     "output_type": "execute_result"
    }
   ],
   "source": [
    "#check how the dataframe looks \n",
    "df_can.head()"
   ]
  },
  {
   "cell_type": "markdown",
   "metadata": {},
   "source": [
    "## Task 3: Explore and cluster the neighborhoods in Toronto\n",
    "\n",
    "Only boroughs that contain the word Toronto were used to replicate the same analysis that was doneto the New York City data. It is up to you.\n",
    "Just make sure:\n",
    "1. to add enough Markdown cells to explain what you decided to do and to report any observations you make.\n",
    "2. to generate maps to visualize your neighborhoods and how they cluster together.\n",
    "\n",
    "\n",
    "The following steps were done: \n",
    "The following steps were done: \n",
    "1. Create new Dataframe which only has boroughs \"Toronto\"\n",
    "2. Install geocoder & import libraries to get the geograpical coordinate of Toronto, Ontario\n",
    "3. Create a map of Toronto, Ontario with neighborhoods superimposed on top\n",
    "\n",
    "__Step 1:__ Create new Dataframe which only has boroughs \"Toronto\""
   ]
  },
  {
   "cell_type": "code",
   "execution_count": 89,
   "metadata": {},
   "outputs": [
    {
     "name": "stdout",
     "output_type": "stream",
     "text": [
      "There are 103 boroughs in the Canada Dataframe. For the futher analyis only those containing the word 'Toronto' are used which are 39.\n"
     ]
    },
    {
     "data": {
      "text/html": [
       "<div>\n",
       "<style scoped>\n",
       "    .dataframe tbody tr th:only-of-type {\n",
       "        vertical-align: middle;\n",
       "    }\n",
       "\n",
       "    .dataframe tbody tr th {\n",
       "        vertical-align: top;\n",
       "    }\n",
       "\n",
       "    .dataframe thead th {\n",
       "        text-align: right;\n",
       "    }\n",
       "</style>\n",
       "<table border=\"1\" class=\"dataframe\">\n",
       "  <thead>\n",
       "    <tr style=\"text-align: right;\">\n",
       "      <th></th>\n",
       "      <th>PostalCode</th>\n",
       "      <th>Borough</th>\n",
       "      <th>Neighborhood</th>\n",
       "      <th>Latitude</th>\n",
       "      <th>Longitude</th>\n",
       "    </tr>\n",
       "  </thead>\n",
       "  <tbody>\n",
       "    <tr>\n",
       "      <th>2</th>\n",
       "      <td>M5A</td>\n",
       "      <td>Downtown Toronto</td>\n",
       "      <td>Regent Park, Harbourfront</td>\n",
       "      <td>43.650110</td>\n",
       "      <td>-79.382900</td>\n",
       "    </tr>\n",
       "    <tr>\n",
       "      <th>4</th>\n",
       "      <td>M7A</td>\n",
       "      <td>Downtown Toronto</td>\n",
       "      <td>Queen's Park, Ontario Provincial Government</td>\n",
       "      <td>43.650110</td>\n",
       "      <td>-79.382900</td>\n",
       "    </tr>\n",
       "    <tr>\n",
       "      <th>9</th>\n",
       "      <td>M5B</td>\n",
       "      <td>Downtown Toronto</td>\n",
       "      <td>Garden District, Ryerson</td>\n",
       "      <td>43.650110</td>\n",
       "      <td>-79.382900</td>\n",
       "    </tr>\n",
       "    <tr>\n",
       "      <th>15</th>\n",
       "      <td>M5C</td>\n",
       "      <td>Downtown Toronto</td>\n",
       "      <td>St. James Town</td>\n",
       "      <td>43.650110</td>\n",
       "      <td>-79.382900</td>\n",
       "    </tr>\n",
       "    <tr>\n",
       "      <th>19</th>\n",
       "      <td>M4E</td>\n",
       "      <td>East Toronto</td>\n",
       "      <td>The Beaches</td>\n",
       "      <td>40.478341</td>\n",
       "      <td>-80.735023</td>\n",
       "    </tr>\n",
       "  </tbody>\n",
       "</table>\n",
       "</div>"
      ],
      "text/plain": [
       "   PostalCode           Borough                                 Neighborhood  \\\n",
       "2         M5A  Downtown Toronto                    Regent Park, Harbourfront   \n",
       "4         M7A  Downtown Toronto  Queen's Park, Ontario Provincial Government   \n",
       "9         M5B  Downtown Toronto                     Garden District, Ryerson   \n",
       "15        M5C  Downtown Toronto                               St. James Town   \n",
       "19        M4E      East Toronto                                  The Beaches   \n",
       "\n",
       "     Latitude  Longitude  \n",
       "2   43.650110 -79.382900  \n",
       "4   43.650110 -79.382900  \n",
       "9   43.650110 -79.382900  \n",
       "15  43.650110 -79.382900  \n",
       "19  40.478341 -80.735023  "
      ]
     },
     "execution_count": 89,
     "metadata": {},
     "output_type": "execute_result"
    }
   ],
   "source": [
    "#Step 1\n",
    "df_toronto = df_can[df_can['Borough'].str.contains(\"Toronto\")]\n",
    "\n",
    "print(\"There are {} boroughs in the Canada Dataframe. For the futher analyis only those containing \\\n",
    "the word 'Toronto' are used which are {}.\".format(\n",
    "        len(df_can['Borough']),\n",
    "        len(df_toronto['Borough'])\n",
    "    )\n",
    ")\n",
    "df_toronto.head()"
   ]
  },
  {
   "cell_type": "markdown",
   "metadata": {},
   "source": [
    "__Step 2:__ Install geocoder & import libraries to get the geograpical coordinate of Toronto, Ontario"
   ]
  },
  {
   "cell_type": "code",
   "execution_count": 90,
   "metadata": {},
   "outputs": [
    {
     "name": "stdout",
     "output_type": "stream",
     "text": [
      "The geograpical coordinate of Toronto, Ontario are 43.6534817, -79.3839347.\n"
     ]
    }
   ],
   "source": [
    "#Step 2\n",
    "#!conda install -c conda-forge geocoder --yes\n",
    "#!conda install -c conda-forge geopy --yes \n",
    "\n",
    "import geocoder # import geocoder\n",
    "from geopy.geocoders import Nominatim\n",
    "\n",
    "address = 'Toronto, Ontario'\n",
    "\n",
    "geolocator = Nominatim(user_agent=\"ny_explorer\")\n",
    "location = geolocator.geocode(address)\n",
    "latitude = location.latitude\n",
    "longitude = location.longitude\n",
    "print('The geograpical coordinate of Toronto, Ontario are {}, {}.'.format(latitude, longitude))"
   ]
  },
  {
   "cell_type": "markdown",
   "metadata": {},
   "source": [
    "__Step 3:__ Create a map of Toronto, Ontario with neighborhoods superimposed on top"
   ]
  },
  {
   "cell_type": "code",
   "execution_count": 74,
   "metadata": {},
   "outputs": [
    {
     "data": {
      "text/html": [
       "<div style=\"width:100%;\"><div style=\"position:relative;width:100%;height:0;padding-bottom:60%;\"><span style=\"color:#565656\">Make this Notebook Trusted to load map: File -> Trust Notebook</span><iframe src=\"about:blank\" style=\"position:absolute;width:100%;height:100%;left:0;top:0;border:none !important;\" data-html=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 onload=\"this.contentDocument.open();this.contentDocument.write(atob(this.getAttribute('data-html')));this.contentDocument.close();\" allowfullscreen webkitallowfullscreen mozallowfullscreen></iframe></div></div>"
      ],
      "text/plain": [
       "<folium.folium.Map at 0x1fc5ba01e48>"
      ]
     },
     "execution_count": 74,
     "metadata": {},
     "output_type": "execute_result"
    }
   ],
   "source": [
    "#Step 3\n",
    "#!conda install -c conda-forge folium=0.5.0 --yes \n",
    "import folium \n",
    "\n",
    "map_toronto = folium.Map(location=[latitude, longitude], zoom_start=12)\n",
    "\n",
    "# add markers to map\n",
    "for lat, lng, borough, neighborhood in zip(df_toronto['Latitude'], df_toronto['Longitude'], df_toronto['Borough'], df_toronto['Neighborhood']):\n",
    "    label = '{}, {}'.format(neighborhood, borough)\n",
    "    label = folium.Popup(label, parse_html=True)\n",
    "    folium.CircleMarker(\n",
    "        [lat, lng],\n",
    "        radius=5,\n",
    "        popup=label,\n",
    "        color='blue',\n",
    "        fill=True,\n",
    "        fill_color='#3186cc',\n",
    "        fill_opacity=0.7,\n",
    "        parse_html=False).add_to(map_toronto)  \n",
    "    \n",
    "map_toronto"
   ]
  }
 ],
 "metadata": {
  "kernelspec": {
   "display_name": "Python 3",
   "language": "python",
   "name": "python3"
  },
  "language_info": {
   "codemirror_mode": {
    "name": "ipython",
    "version": 3
   },
   "file_extension": ".py",
   "mimetype": "text/x-python",
   "name": "python",
   "nbconvert_exporter": "python",
   "pygments_lexer": "ipython3",
   "version": "3.7.6"
  }
 },
 "nbformat": 4,
 "nbformat_minor": 4
}
